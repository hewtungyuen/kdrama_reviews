{
 "cells": [
  {
   "cell_type": "markdown",
   "metadata": {},
   "source": [
    "# Analysis of The King: Eternal Monarch "
   ]
  },
  {
   "cell_type": "markdown",
   "metadata": {},
   "source": [
    "### Overview"
   ]
  },
  {
   "cell_type": "markdown",
   "metadata": {},
   "source": [
    "We aim to perform sentiment analysis on korean drama reviews from a website by utilising web scraping. The title of the korean drama we will be analysing is The King: Eternal Monarch. The data is scraped from http://asianwiki.com/The_King:_Eternal_Monarch."
   ]
  },
  {
   "cell_type": "markdown",
   "metadata": {},
   "source": [
    "##### Steps:\n",
    "1. Scraping and processing text\n",
    "2. Exploratory data analysis\n",
    "3. Analysis of viewership ratings\n",
    "4. Sentiment analysis"
   ]
  },
  {
   "cell_type": "markdown",
   "metadata": {},
   "source": [
    "### 1. Scraping and processing text"
   ]
  },
  {
   "cell_type": "code",
   "execution_count": 1,
   "metadata": {},
   "outputs": [],
   "source": [
    "import requests\n",
    "import bs4\n",
    "import pandas as pd\n",
    "import seaborn as sns\n",
    "import matplotlib.pyplot as plt\n",
    "import re"
   ]
  },
  {
   "cell_type": "code",
   "execution_count": 2,
   "metadata": {},
   "outputs": [],
   "source": [
    "result = requests.get('http://asianwiki.com/The_King:_Eternal_Monarch')"
   ]
  },
  {
   "cell_type": "code",
   "execution_count": 3,
   "metadata": {},
   "outputs": [],
   "source": [
    "soup = bs4.BeautifulSoup(result.text)"
   ]
  },
  {
   "cell_type": "markdown",
   "metadata": {},
   "source": [
    "Comments are categorised under the class \"comment-item\". Hence, we can use this knowledge to select all the reviews from the html."
   ]
  },
  {
   "cell_type": "code",
   "execution_count": 4,
   "metadata": {},
   "outputs": [],
   "source": [
    "reviews = soup.select('.comment-item')"
   ]
  },
  {
   "cell_type": "code",
   "execution_count": 5,
   "metadata": {},
   "outputs": [],
   "source": [
    "# Extracting text \n",
    "review_text = [review.text for review in reviews]"
   ]
  },
  {
   "cell_type": "code",
   "execution_count": 6,
   "metadata": {},
   "outputs": [],
   "source": [
    "# Using regular expression to clean text \n",
    "clean = []\n",
    "for review in review_text:\n",
    "    review = ''.join(re.findall('[^\\n]+',review))\n",
    "    clean.append(re.sub('\\S+\\s\\D{3}\\s\\d{2}\\s\\d{4}\\s\\d{1,2}\\W\\d{2}\\s\\D{2}\\s','',review))\n",
    "                            # Pattern that represents timestamp  \n",
    "                            # E.g. Jun 30 2020 1:51 am "
   ]
  },
  {
   "cell_type": "code",
   "execution_count": 7,
   "metadata": {},
   "outputs": [
    {
     "data": {
      "text/plain": [
       "'\\nIpti Jun 29 2020 2:21 am \\nWorth watching, the story was nice and the actors did a great job\\n\\n'"
      ]
     },
     "execution_count": 7,
     "metadata": {},
     "output_type": "execute_result"
    }
   ],
   "source": [
    "review_text[1]"
   ]
  },
  {
   "cell_type": "code",
   "execution_count": 8,
   "metadata": {},
   "outputs": [
    {
     "data": {
      "text/plain": [
       "'Worth watching, the story was nice and the actors did a great job'"
      ]
     },
     "execution_count": 8,
     "metadata": {},
     "output_type": "execute_result"
    }
   ],
   "source": [
    "clean[1]"
   ]
  },
  {
   "cell_type": "markdown",
   "metadata": {},
   "source": [
    "As seen above, '\\n', the timestamp and userID (Ipti Jun 29 2020 2:21 am) is removed after cleaning the text."
   ]
  },
  {
   "cell_type": "code",
   "execution_count": 9,
   "metadata": {},
   "outputs": [],
   "source": [
    "df = pd.DataFrame(clean,columns = ['Review'])"
   ]
  },
  {
   "cell_type": "code",
   "execution_count": 10,
   "metadata": {},
   "outputs": [
    {
     "data": {
      "text/html": [
       "<div>\n",
       "<style scoped>\n",
       "    .dataframe tbody tr th:only-of-type {\n",
       "        vertical-align: middle;\n",
       "    }\n",
       "\n",
       "    .dataframe tbody tr th {\n",
       "        vertical-align: top;\n",
       "    }\n",
       "\n",
       "    .dataframe thead th {\n",
       "        text-align: right;\n",
       "    }\n",
       "</style>\n",
       "<table border=\"1\" class=\"dataframe\">\n",
       "  <thead>\n",
       "    <tr style=\"text-align: right;\">\n",
       "      <th></th>\n",
       "      <th>Review</th>\n",
       "    </tr>\n",
       "  </thead>\n",
       "  <tbody>\n",
       "    <tr>\n",
       "      <th>0</th>\n",
       "      <td>I've just finished watching Mr.Sunshine. Altho...</td>\n",
       "    </tr>\n",
       "    <tr>\n",
       "      <th>1</th>\n",
       "      <td>Worth watching, the story was nice and the act...</td>\n",
       "    </tr>\n",
       "    <tr>\n",
       "      <th>2</th>\n",
       "      <td>Done watching it with a smile...</td>\n",
       "    </tr>\n",
       "    <tr>\n",
       "      <th>3</th>\n",
       "      <td>Kdrama Addict I love the story... I watched Le...</td>\n",
       "    </tr>\n",
       "    <tr>\n",
       "      <th>4</th>\n",
       "      <td>One thing that turned me down about this movie...</td>\n",
       "    </tr>\n",
       "  </tbody>\n",
       "</table>\n",
       "</div>"
      ],
      "text/plain": [
       "                                              Review\n",
       "0  I've just finished watching Mr.Sunshine. Altho...\n",
       "1  Worth watching, the story was nice and the act...\n",
       "2                   Done watching it with a smile...\n",
       "3  Kdrama Addict I love the story... I watched Le...\n",
       "4  One thing that turned me down about this movie..."
      ]
     },
     "execution_count": 10,
     "metadata": {},
     "output_type": "execute_result"
    }
   ],
   "source": [
    "df.head()"
   ]
  },
  {
   "cell_type": "markdown",
   "metadata": {},
   "source": [
    "### 2. Exploratory data analysis"
   ]
  },
  {
   "cell_type": "code",
   "execution_count": 11,
   "metadata": {},
   "outputs": [
    {
     "name": "stdout",
     "output_type": "stream",
     "text": [
      "Maximum number of words in a review:  1211\n"
     ]
    }
   ],
   "source": [
    "max_len = df['Review'].str.split().str.len().max()\n",
    "print('Maximum number of words in a review: ', max_len)"
   ]
  },
  {
   "cell_type": "code",
   "execution_count": 12,
   "metadata": {},
   "outputs": [
    {
     "data": {
      "text/html": [
       "<div>\n",
       "<style scoped>\n",
       "    .dataframe tbody tr th:only-of-type {\n",
       "        vertical-align: middle;\n",
       "    }\n",
       "\n",
       "    .dataframe tbody tr th {\n",
       "        vertical-align: top;\n",
       "    }\n",
       "\n",
       "    .dataframe thead th {\n",
       "        text-align: right;\n",
       "    }\n",
       "</style>\n",
       "<table border=\"1\" class=\"dataframe\">\n",
       "  <thead>\n",
       "    <tr style=\"text-align: right;\">\n",
       "      <th></th>\n",
       "      <th>Review</th>\n",
       "    </tr>\n",
       "  </thead>\n",
       "  <tbody>\n",
       "    <tr>\n",
       "      <th>16</th>\n",
       "      <td>SPOILERAbout the scar, what a bummer. They mad...</td>\n",
       "    </tr>\n",
       "  </tbody>\n",
       "</table>\n",
       "</div>"
      ],
      "text/plain": [
       "                                               Review\n",
       "16  SPOILERAbout the scar, what a bummer. They mad..."
      ]
     },
     "execution_count": 12,
     "metadata": {},
     "output_type": "execute_result"
    }
   ],
   "source": [
    "df[df['Review'].str.split().str.len() == 1211]"
   ]
  },
  {
   "cell_type": "code",
   "execution_count": 13,
   "metadata": {},
   "outputs": [
    {
     "data": {
      "text/plain": [
       "'SPOILERAbout the scar, what a bummer. They made such a big deal out of it then I felt like they dropped the ball on it. Ok, here\\'s some more thoughts ...Yo-Yo Boy (Aka: the spirit of the Manpasikjeok)He is basically the gate keeper and controls access to all the parallel worlds. He has the ability to appear in any physical form (young or older) and moves between worlds at will. Whichever physical form he appears in is probably dependent on what he needs to accomplish.The Yo-Yo I\\'m surprise no one has mentioned the yo-yo and what is its purpose. Here\\'s my 2 cents on this topic. Basically, the yo-yo represents the parallel worlds. You always see the boy constantly moving the yo-yo. This is symbolic of him doing his basic function which is to keep the parallel worlds in perpetual motion and in balance. Think of each of the two discs of the yo-yo as parallel world opposites separated from each other by a string and Yo-Yo boy is there to ensure all worlds are in balance and working the way they should be.When the Manpasikjeok was broken in half, it took some of the control of the worlds out of yo-yo boy\\'s hands and into the hands of whoever has the Manpasikjeok pieces. Lee Lim\\'s activities were basically causing the entire yo-yo to be out of balance. The Corea side of the yo-yo was heavy with activities. If that keeps up, the yo yo will not work right to the point where it will be noticeable. Hence the bleed throughs into both Corea/Korea such as people in both worlds experiencing flashes of their dopplegangers. Ultimately, if nothing is done to correct the imbalance, the yo-yo will actually stop working. This was already well on its way; the more the Corea citizens affect changes in Korea, the longer time freezes. Ultimately, all parallel worlds would come to a stand still at some point (AKA time freezes forever and so is life as we know it).In order to restore balance, Yo-Yo boy needed a force to counter the Lee Lim force that caused the imbalance. This force, however, can not come from the Kingdom of Corea because that is where the driving force that messed things up came from - Lee Lim. The driving force to restore balance must come from the Republic of Korea to balance things out. Just imagine you and I having an arm wrestling contest. If I am winning and I\\'m able to pull your arm past the midpoint toward my side, the only way that balance can be restored is if you exert enough force to bring yourself back to the midpoint. Now apply this same concept to Corea/Korea with me being Corea and you being Korea.A perfect example of why the Corea side can not restore the balance is in Episode 14. When both Lee Lim & the King were inside the place between-zero-and-one at the same time, it made the Manpasikjeok \"whole\" again. They both had an equal chance to change events that night but things still didn\\'t turn out the way they wanted. The 2020 Lee Lim got killed by the 1994 Lee Lim and the King didn\\'t make much of a change to his past situation. Their efforts did not work because the driving force and catalyst to fix both worlds must come from Korea - the other half of the yo-yo.Yo-Yo boy choose Tae-Eul to be that force to provide the equal and opposite reaction to put things in motion and back into balance. Why? Because she is the exact opposite of what Lee Lim stands for, she wants the worlds to be balanced AND she has the courage to pull it off. That was her fate. I think symbolically, she is the red string on the yo-yo. I googled it and this actually exists! \"The Red Thread of Fate is an East Asian belief originating from Chinese mythology. It is commonly thought of as an invisible red cord around the finger of those that are destined to meet one another in a certain situation as they are \"their true love\". ...The two people connected by the red thread are destined lovers, regardless of place, time, or circumstances. This magical cord may stretch or tangle, but never break. \"In the last episode, the yo-yo boy & teenage boy were shown as flashbacks in Tae-Eul\\'s life to conveyed that he has been keeping an eye on Tae-Eul all along. If you need more proof of Tae-Eul\\'s fate, rewatch the order of things in the last episode.Her first successful shot went off which represented the force that was needed to get the yo yo going again and the 2 worlds back on track. You know everything is back on track because immediately right after the successful shot:-  The lily plant begins to grow the green shoot.  (Proof that time no longer freezes)- There is now wind in the place between-zero-and-one. You can see the wind because her hair was blowing.- In the King\\'s between-zero-and-one place, all the red balloons and other stuff are now moving in the air.- Lee Lim\\'s body disintegrated in the between-zero-and-one place and his watch that was left was actually working and not frozen in time.- The events that were the result of the 2 worlds crossing disappeared. For example, Sin-Jae\\'s pic from Tae-ul\\'s world.Note that after she fired the successful shot then the King took care of Lee Lim. (At first I thought it was weird the order of things and had to really use my brain cells to figure this one out.)The Fast Romance: diehardfan explains it the best. You have to understand it could be at least 3-4 months by the time they see each other next. So while apart, they are actually not apart because they were thinking of each other and longing to be in the company of each other. This is why the next time they see each other, they keep saying, \"I missed you\", or \"Have you been waiting for me?\" It just solidifies the saying, \"Absence makes the heart grows fonder\".This is really not your typical romance. If you don\\'t know when or if you will ever see the other person again, you will probably do what they do - gladly accept your fate and live in the moment. Cause all you really are guaranteed is just that moment. I think if they put a time caption on when the King meets Tae-Eul next (ex: \"6 months later\") that would help the audience understand their time constraints better.Shin-Jae Jeez, Kim Kyung-Nam is just too cool. His acting was just spot on when his mother ran out to give him a hug…. and he didn\\'t even have to say one word. Bravo!!!Overall, I don\\'t recommend this show for just anyone. If you are a deep thinker and like to solve a good mystery then this is right up your alley. It\\'s really a show that keeps on giving because it does require a lot of utilizing the brain cells to get the full impact of the plot. Even after rewatching things, you start to notice more clues that you didn\\'t really notice before. I love it and hoping there will be a sequel!'"
      ]
     },
     "execution_count": 13,
     "metadata": {},
     "output_type": "execute_result"
    }
   ],
   "source": [
    "# Taking a look at the longest review\n",
    "df.iloc[16,0]"
   ]
  },
  {
   "cell_type": "code",
   "execution_count": 14,
   "metadata": {},
   "outputs": [
    {
     "data": {
      "text/plain": [
       "Text(0, 0.5, 'Count')"
      ]
     },
     "execution_count": 14,
     "metadata": {},
     "output_type": "execute_result"
    },
    {
     "data": {
      "image/png": "[encoded data removed]",
      "text/plain": [
       "<Figure size 432x288 with 1 Axes>"
      ]
     },
     "metadata": {
      "needs_background": "light"
     },
     "output_type": "display_data"
    }
   ],
   "source": [
    "sns.distplot(pd.DataFrame(df['Review'].str.split().str.len()),kde=False,bins=100)\n",
    "plt.title('Distribution of review lengths')\n",
    "plt.xlabel('Length')\n",
    "plt.ylabel('Count')"
   ]
  },
  {
   "cell_type": "code",
   "execution_count": 15,
   "metadata": {},
   "outputs": [],
   "source": [
    "# Removing reviews that are too long\n",
    "df = df[df['Review'].str.split().str.len() < 200]"
   ]
  },
  {
   "cell_type": "code",
   "execution_count": 16,
   "metadata": {},
   "outputs": [
    {
     "data": {
      "text/plain": [
       "Text(0, 0.5, 'Count')"
      ]
     },
     "execution_count": 16,
     "metadata": {},
     "output_type": "execute_result"
    },
    {
     "data": {
      "image/png": "[encoded data removed]",
      "text/plain": [
       "<Figure size 432x288 with 1 Axes>"
      ]
     },
     "metadata": {
      "needs_background": "light"
     },
     "output_type": "display_data"
    }
   ],
   "source": [
    "sns.distplot(pd.DataFrame(df['Review'].str.split().str.len()),kde=False,bins=10)\n",
    "plt.title('Distribution of review lengths')\n",
    "plt.xlabel('Length')\n",
    "plt.ylabel('Count')"
   ]
  },
  {
   "cell_type": "code",
   "execution_count": 17,
   "metadata": {},
   "outputs": [],
   "source": [
    "# Importing libraries for wordcloud\n",
    "from wordcloud import WordCloud, STOPWORDS"
   ]
  },
  {
   "cell_type": "code",
   "execution_count": 18,
   "metadata": {},
   "outputs": [],
   "source": [
    "words = ''.join(review for review in df['Review'])"
   ]
  },
  {
   "cell_type": "code",
   "execution_count": 19,
   "metadata": {},
   "outputs": [],
   "source": [
    "stopwords = set(STOPWORDS)"
   ]
  },
  {
   "cell_type": "code",
   "execution_count": 20,
   "metadata": {},
   "outputs": [],
   "source": [
    "# Adding extra stopwords \n",
    "stopwords.update(['drama','episode','ep','scene','really','story'])"
   ]
  },
  {
   "cell_type": "code",
   "execution_count": 21,
   "metadata": {},
   "outputs": [],
   "source": [
    "wordcloud = WordCloud(stopwords = stopwords, background_color=\"white\").generate(words)"
   ]
  },
  {
   "cell_type": "code",
   "execution_count": 22,
   "metadata": {},
   "outputs": [
    {
     "data": {
      "text/plain": [
       "(-0.5, 399.5, 199.5, -0.5)"
      ]
     },
     "execution_count": 22,
     "metadata": {},
     "output_type": "execute_result"
    },
    {
     "data": {
      "image/png": "[encoded data removed]",
      "text/plain": [
       "<Figure size 864x864 with 1 Axes>"
      ]
     },
     "metadata": {
      "needs_background": "light"
     },
     "output_type": "display_data"
    }
   ],
   "source": [
    "plt.figure(figsize=(12,12))\n",
    "plt.imshow(wordcloud)\n",
    "plt.axis(\"off\")"
   ]
  },
  {
   "cell_type": "markdown",
   "metadata": {},
   "source": [
    "The wordcloud shows that the most common words in each review are the names of the two main characters, Lee Min Ho and Kim Go Eun. Positive keywords such as love, good and great are also reflected."
   ]
  },
  {
   "cell_type": "markdown",
   "metadata": {},
   "source": [
    "### 3. Analysis of viewership ratings "
   ]
  },
  {
   "cell_type": "markdown",
   "metadata": {},
   "source": [
    "Viewership ratings represent the most watched and most popular korean dramas during their broadcast timeslot. The higher the viewership ratings, the better."
   ]
  },
  {
   "cell_type": "code",
   "execution_count": 23,
   "metadata": {},
   "outputs": [],
   "source": [
    "table = pd.read_html('http://asianwiki.com/The_King:_Eternal_Monarch')"
   ]
  },
  {
   "cell_type": "code",
   "execution_count": 24,
   "metadata": {},
   "outputs": [],
   "source": [
    "ratings = table[30]"
   ]
  },
  {
   "cell_type": "code",
   "execution_count": 25,
   "metadata": {},
   "outputs": [
    {
     "data": {
      "text/html": [
       "<div>\n",
       "<style scoped>\n",
       "    .dataframe tbody tr th:only-of-type {\n",
       "        vertical-align: middle;\n",
       "    }\n",
       "\n",
       "    .dataframe tbody tr th {\n",
       "        vertical-align: top;\n",
       "    }\n",
       "\n",
       "    .dataframe thead tr th {\n",
       "        text-align: left;\n",
       "    }\n",
       "</style>\n",
       "<table border=\"1\" class=\"dataframe\">\n",
       "  <thead>\n",
       "    <tr>\n",
       "      <th></th>\n",
       "      <th>Date</th>\n",
       "      <th>Episode</th>\n",
       "      <th colspan=\"2\" halign=\"left\">AGB</th>\n",
       "    </tr>\n",
       "    <tr>\n",
       "      <th></th>\n",
       "      <th>Date</th>\n",
       "      <th>Episode</th>\n",
       "      <th>Nationwide</th>\n",
       "      <th>Seoul</th>\n",
       "    </tr>\n",
       "  </thead>\n",
       "  <tbody>\n",
       "    <tr>\n",
       "      <th>0</th>\n",
       "      <td>2020-04-17</td>\n",
       "      <td>1</td>\n",
       "      <td>10.1% (7th)</td>\n",
       "      <td>11.4% (5th)</td>\n",
       "    </tr>\n",
       "    <tr>\n",
       "      <th>1</th>\n",
       "      <td>2020-04-17</td>\n",
       "      <td>1</td>\n",
       "      <td>11.4% (4th)</td>\n",
       "      <td>12.9% (4th)</td>\n",
       "    </tr>\n",
       "    <tr>\n",
       "      <th>2</th>\n",
       "      <td>2020-04-18</td>\n",
       "      <td>2</td>\n",
       "      <td>8.4% (7th)</td>\n",
       "      <td>9.7% (5th)</td>\n",
       "    </tr>\n",
       "    <tr>\n",
       "      <th>3</th>\n",
       "      <td>2020-04-18</td>\n",
       "      <td>2</td>\n",
       "      <td>11.6% (3rd)</td>\n",
       "      <td>12.9% (3rd)</td>\n",
       "    </tr>\n",
       "    <tr>\n",
       "      <th>4</th>\n",
       "      <td>2020-04-24</td>\n",
       "      <td>3</td>\n",
       "      <td>7.8% (11th)</td>\n",
       "      <td>8.2% (12th)</td>\n",
       "    </tr>\n",
       "    <tr>\n",
       "      <th>5</th>\n",
       "      <td>2020-04-24</td>\n",
       "      <td>3</td>\n",
       "      <td>9.0% (7th)</td>\n",
       "      <td>9.4% (5th)</td>\n",
       "    </tr>\n",
       "    <tr>\n",
       "      <th>6</th>\n",
       "      <td>2020-04-25</td>\n",
       "      <td>4</td>\n",
       "      <td>8.0% (9th)</td>\n",
       "      <td>8.8% (6th)</td>\n",
       "    </tr>\n",
       "    <tr>\n",
       "      <th>7</th>\n",
       "      <td>2020-04-25</td>\n",
       "      <td>4</td>\n",
       "      <td>9.7% (4th)</td>\n",
       "      <td>10.1% (4th)</td>\n",
       "    </tr>\n",
       "    <tr>\n",
       "      <th>8</th>\n",
       "      <td>2020-05-01</td>\n",
       "      <td>5</td>\n",
       "      <td>7.6% (11th)</td>\n",
       "      <td>8.2% (6th)</td>\n",
       "    </tr>\n",
       "    <tr>\n",
       "      <th>9</th>\n",
       "      <td>2020-05-01</td>\n",
       "      <td>5</td>\n",
       "      <td>8.6% (6th)</td>\n",
       "      <td>9.3% (4th)</td>\n",
       "    </tr>\n",
       "    <tr>\n",
       "      <th>10</th>\n",
       "      <td>2020-05-02</td>\n",
       "      <td>6</td>\n",
       "      <td>7.4% (8th)</td>\n",
       "      <td>7.9% (6th)</td>\n",
       "    </tr>\n",
       "    <tr>\n",
       "      <th>11</th>\n",
       "      <td>2020-05-02</td>\n",
       "      <td>6</td>\n",
       "      <td>10.3% (4th)</td>\n",
       "      <td>10.5% (3rd)</td>\n",
       "    </tr>\n",
       "    <tr>\n",
       "      <th>12</th>\n",
       "      <td>2020-05-08</td>\n",
       "      <td>7</td>\n",
       "      <td>7.0% (11th)</td>\n",
       "      <td>7.3% (10th)</td>\n",
       "    </tr>\n",
       "    <tr>\n",
       "      <th>13</th>\n",
       "      <td>2020-05-08</td>\n",
       "      <td>7</td>\n",
       "      <td>8.1% (7th)</td>\n",
       "      <td>8.7% (7th)</td>\n",
       "    </tr>\n",
       "    <tr>\n",
       "      <th>14</th>\n",
       "      <td>2020-05-09</td>\n",
       "      <td>8</td>\n",
       "      <td>6.1% (17th)</td>\n",
       "      <td>6.8% (13th)</td>\n",
       "    </tr>\n",
       "    <tr>\n",
       "      <th>15</th>\n",
       "      <td>2020-05-09</td>\n",
       "      <td>8</td>\n",
       "      <td>8.1% (9th)</td>\n",
       "      <td>8.5% (5th)</td>\n",
       "    </tr>\n",
       "    <tr>\n",
       "      <th>16</th>\n",
       "      <td>2020-05-15</td>\n",
       "      <td>9</td>\n",
       "      <td>5.8% (17th)</td>\n",
       "      <td>6.3% (15th)</td>\n",
       "    </tr>\n",
       "    <tr>\n",
       "      <th>17</th>\n",
       "      <td>2020-05-15</td>\n",
       "      <td>9</td>\n",
       "      <td>6.3% (14th)</td>\n",
       "      <td>7.0% (13th)</td>\n",
       "    </tr>\n",
       "    <tr>\n",
       "      <th>18</th>\n",
       "      <td>2020-05-16</td>\n",
       "      <td>10</td>\n",
       "      <td>6.4% (16th)</td>\n",
       "      <td>7.3% (10th)</td>\n",
       "    </tr>\n",
       "    <tr>\n",
       "      <th>19</th>\n",
       "      <td>2020-05-16</td>\n",
       "      <td>10</td>\n",
       "      <td>7.8% (8th)</td>\n",
       "      <td>8.7% (5th)</td>\n",
       "    </tr>\n",
       "    <tr>\n",
       "      <th>20</th>\n",
       "      <td>2020-05-22</td>\n",
       "      <td>11</td>\n",
       "      <td>5.2% (20th)</td>\n",
       "      <td>5.6% (19th)</td>\n",
       "    </tr>\n",
       "    <tr>\n",
       "      <th>21</th>\n",
       "      <td>2020-05-22</td>\n",
       "      <td>11</td>\n",
       "      <td>6.6% (12th)</td>\n",
       "      <td>6.8% (11th)</td>\n",
       "    </tr>\n",
       "    <tr>\n",
       "      <th>22</th>\n",
       "      <td>2020-05-23</td>\n",
       "      <td>12</td>\n",
       "      <td>6.1% (15th)</td>\n",
       "      <td>6.6% (13th)</td>\n",
       "    </tr>\n",
       "    <tr>\n",
       "      <th>23</th>\n",
       "      <td>2020-05-23</td>\n",
       "      <td>12</td>\n",
       "      <td>8.1% (6th)</td>\n",
       "      <td>8.5% (5th)</td>\n",
       "    </tr>\n",
       "    <tr>\n",
       "      <th>24</th>\n",
       "      <td>2020-05-30</td>\n",
       "      <td>13</td>\n",
       "      <td>5.6%</td>\n",
       "      <td>-</td>\n",
       "    </tr>\n",
       "    <tr>\n",
       "      <th>25</th>\n",
       "      <td>2020-05-30</td>\n",
       "      <td>13</td>\n",
       "      <td>7.7% (8th)</td>\n",
       "      <td>8.2% (8th)</td>\n",
       "    </tr>\n",
       "    <tr>\n",
       "      <th>26</th>\n",
       "      <td>2020-06-05</td>\n",
       "      <td>14</td>\n",
       "      <td>5.7% (15th)</td>\n",
       "      <td>6.5% (12th)</td>\n",
       "    </tr>\n",
       "    <tr>\n",
       "      <th>27</th>\n",
       "      <td>2020-06-05</td>\n",
       "      <td>14</td>\n",
       "      <td>6.7% (11th)</td>\n",
       "      <td>7.5% (10th)</td>\n",
       "    </tr>\n",
       "    <tr>\n",
       "      <th>28</th>\n",
       "      <td>2020-06-06</td>\n",
       "      <td>15</td>\n",
       "      <td>5.9% (16th)</td>\n",
       "      <td>6.8% (11th)</td>\n",
       "    </tr>\n",
       "    <tr>\n",
       "      <th>29</th>\n",
       "      <td>2020-06-06</td>\n",
       "      <td>15</td>\n",
       "      <td>8.1% (7th)</td>\n",
       "      <td>8.5% (7th)</td>\n",
       "    </tr>\n",
       "    <tr>\n",
       "      <th>30</th>\n",
       "      <td>2020-06-12</td>\n",
       "      <td>16</td>\n",
       "      <td>5.8% (14th)</td>\n",
       "      <td>6.2% (12th)</td>\n",
       "    </tr>\n",
       "    <tr>\n",
       "      <th>31</th>\n",
       "      <td>2020-06-12</td>\n",
       "      <td>16</td>\n",
       "      <td>8.1% (8th)</td>\n",
       "      <td>8.7% (6th)</td>\n",
       "    </tr>\n",
       "  </tbody>\n",
       "</table>\n",
       "</div>"
      ],
      "text/plain": [
       "          Date Episode          AGB             \n",
       "          Date Episode   Nationwide        Seoul\n",
       "0   2020-04-17       1  10.1% (7th)  11.4% (5th)\n",
       "1   2020-04-17       1  11.4% (4th)  12.9% (4th)\n",
       "2   2020-04-18       2   8.4% (7th)   9.7% (5th)\n",
       "3   2020-04-18       2  11.6% (3rd)  12.9% (3rd)\n",
       "4   2020-04-24       3  7.8% (11th)  8.2% (12th)\n",
       "5   2020-04-24       3   9.0% (7th)   9.4% (5th)\n",
       "6   2020-04-25       4   8.0% (9th)   8.8% (6th)\n",
       "7   2020-04-25       4   9.7% (4th)  10.1% (4th)\n",
       "8   2020-05-01       5  7.6% (11th)   8.2% (6th)\n",
       "9   2020-05-01       5   8.6% (6th)   9.3% (4th)\n",
       "10  2020-05-02       6   7.4% (8th)   7.9% (6th)\n",
       "11  2020-05-02       6  10.3% (4th)  10.5% (3rd)\n",
       "12  2020-05-08       7  7.0% (11th)  7.3% (10th)\n",
       "13  2020-05-08       7   8.1% (7th)   8.7% (7th)\n",
       "14  2020-05-09       8  6.1% (17th)  6.8% (13th)\n",
       "15  2020-05-09       8   8.1% (9th)   8.5% (5th)\n",
       "16  2020-05-15       9  5.8% (17th)  6.3% (15th)\n",
       "17  2020-05-15       9  6.3% (14th)  7.0% (13th)\n",
       "18  2020-05-16      10  6.4% (16th)  7.3% (10th)\n",
       "19  2020-05-16      10   7.8% (8th)   8.7% (5th)\n",
       "20  2020-05-22      11  5.2% (20th)  5.6% (19th)\n",
       "21  2020-05-22      11  6.6% (12th)  6.8% (11th)\n",
       "22  2020-05-23      12  6.1% (15th)  6.6% (13th)\n",
       "23  2020-05-23      12   8.1% (6th)   8.5% (5th)\n",
       "24  2020-05-30      13         5.6%            -\n",
       "25  2020-05-30      13   7.7% (8th)   8.2% (8th)\n",
       "26  2020-06-05      14  5.7% (15th)  6.5% (12th)\n",
       "27  2020-06-05      14  6.7% (11th)  7.5% (10th)\n",
       "28  2020-06-06      15  5.9% (16th)  6.8% (11th)\n",
       "29  2020-06-06      15   8.1% (7th)   8.5% (7th)\n",
       "30  2020-06-12      16  5.8% (14th)  6.2% (12th)\n",
       "31  2020-06-12      16   8.1% (8th)   8.7% (6th)"
      ]
     },
     "execution_count": 25,
     "metadata": {},
     "output_type": "execute_result"
    }
   ],
   "source": [
    "ratings"
   ]
  },
  {
   "cell_type": "code",
   "execution_count": 26,
   "metadata": {},
   "outputs": [],
   "source": [
    "nationwide_ratings = ratings['AGB']['Nationwide']\n",
    "seoul_ratings = ratings['AGB']['Seoul']"
   ]
  },
  {
   "cell_type": "code",
   "execution_count": 27,
   "metadata": {},
   "outputs": [],
   "source": [
    "# Extracting numerical rating \n",
    "nationwide = []\n",
    "for rating in nationwide_ratings:\n",
    "    value = re.findall('\\d{1,2}.\\d',rating)    \n",
    "    for i in value:\n",
    "        nationwide.append(float(i))\n",
    "\n",
    "seoul = []\n",
    "for rating in seoul_ratings:\n",
    "    if rating == '-':\n",
    "        seoul.append(0.0)\n",
    "    else:\n",
    "        value = re.findall('\\d{1,2}.\\d',rating)\n",
    "        for i in value:\n",
    "            seoul.append(float(i))"
   ]
  },
  {
   "cell_type": "code",
   "execution_count": 28,
   "metadata": {},
   "outputs": [],
   "source": [
    "ratings['Nationwide'] = pd.DataFrame(nationwide)\n",
    "ratings['Seoul'] = pd.DataFrame(seoul)"
   ]
  },
  {
   "cell_type": "code",
   "execution_count": 29,
   "metadata": {},
   "outputs": [],
   "source": [
    "ratings['Episodes'] = ratings['Episode']['Episode']"
   ]
  },
  {
   "cell_type": "code",
   "execution_count": 30,
   "metadata": {},
   "outputs": [
    {
     "name": "stderr",
     "output_type": "stream",
     "text": [
      "C:\\Users\\hewtu\\anaconda3\\lib\\site-packages\\pandas\\core\\generic.py:3936: PerformanceWarning: dropping on a non-lexsorted multi-index without a level parameter may impact performance.\n",
      "  obj = obj._drop_axis(labels, axis, level=level, errors=errors)\n"
     ]
    }
   ],
   "source": [
    " ratings = ratings.drop(['AGB','Date','Episode'],axis=1)"
   ]
  },
  {
   "cell_type": "code",
   "execution_count": 31,
   "metadata": {},
   "outputs": [],
   "source": [
    "ratings = ratings.groupby('Episodes').max()"
   ]
  },
  {
   "cell_type": "code",
   "execution_count": 32,
   "metadata": {},
   "outputs": [
    {
     "data": {
      "text/html": [
       "<div>\n",
       "<style scoped>\n",
       "    .dataframe tbody tr th:only-of-type {\n",
       "        vertical-align: middle;\n",
       "    }\n",
       "\n",
       "    .dataframe tbody tr th {\n",
       "        vertical-align: top;\n",
       "    }\n",
       "\n",
       "    .dataframe thead tr th {\n",
       "        text-align: left;\n",
       "    }\n",
       "\n",
       "    .dataframe thead tr:last-of-type th {\n",
       "        text-align: right;\n",
       "    }\n",
       "</style>\n",
       "<table border=\"1\" class=\"dataframe\">\n",
       "  <thead>\n",
       "    <tr>\n",
       "      <th></th>\n",
       "      <th>Nationwide</th>\n",
       "      <th>Seoul</th>\n",
       "    </tr>\n",
       "    <tr>\n",
       "      <th></th>\n",
       "      <th></th>\n",
       "      <th></th>\n",
       "    </tr>\n",
       "    <tr>\n",
       "      <th>Episodes</th>\n",
       "      <th></th>\n",
       "      <th></th>\n",
       "    </tr>\n",
       "  </thead>\n",
       "  <tbody>\n",
       "    <tr>\n",
       "      <th>1</th>\n",
       "      <td>11.4</td>\n",
       "      <td>12.9</td>\n",
       "    </tr>\n",
       "    <tr>\n",
       "      <th>2</th>\n",
       "      <td>11.6</td>\n",
       "      <td>12.9</td>\n",
       "    </tr>\n",
       "    <tr>\n",
       "      <th>3</th>\n",
       "      <td>9.0</td>\n",
       "      <td>9.4</td>\n",
       "    </tr>\n",
       "    <tr>\n",
       "      <th>4</th>\n",
       "      <td>9.7</td>\n",
       "      <td>10.1</td>\n",
       "    </tr>\n",
       "    <tr>\n",
       "      <th>5</th>\n",
       "      <td>8.6</td>\n",
       "      <td>9.3</td>\n",
       "    </tr>\n",
       "    <tr>\n",
       "      <th>6</th>\n",
       "      <td>10.3</td>\n",
       "      <td>10.5</td>\n",
       "    </tr>\n",
       "    <tr>\n",
       "      <th>7</th>\n",
       "      <td>8.1</td>\n",
       "      <td>8.7</td>\n",
       "    </tr>\n",
       "    <tr>\n",
       "      <th>8</th>\n",
       "      <td>8.1</td>\n",
       "      <td>8.5</td>\n",
       "    </tr>\n",
       "    <tr>\n",
       "      <th>9</th>\n",
       "      <td>6.3</td>\n",
       "      <td>7.0</td>\n",
       "    </tr>\n",
       "    <tr>\n",
       "      <th>10</th>\n",
       "      <td>7.8</td>\n",
       "      <td>8.7</td>\n",
       "    </tr>\n",
       "    <tr>\n",
       "      <th>11</th>\n",
       "      <td>6.6</td>\n",
       "      <td>6.8</td>\n",
       "    </tr>\n",
       "    <tr>\n",
       "      <th>12</th>\n",
       "      <td>8.1</td>\n",
       "      <td>8.5</td>\n",
       "    </tr>\n",
       "    <tr>\n",
       "      <th>13</th>\n",
       "      <td>7.7</td>\n",
       "      <td>8.2</td>\n",
       "    </tr>\n",
       "    <tr>\n",
       "      <th>14</th>\n",
       "      <td>6.7</td>\n",
       "      <td>7.5</td>\n",
       "    </tr>\n",
       "    <tr>\n",
       "      <th>15</th>\n",
       "      <td>8.1</td>\n",
       "      <td>8.5</td>\n",
       "    </tr>\n",
       "    <tr>\n",
       "      <th>16</th>\n",
       "      <td>8.1</td>\n",
       "      <td>8.7</td>\n",
       "    </tr>\n",
       "  </tbody>\n",
       "</table>\n",
       "</div>"
      ],
      "text/plain": [
       "         Nationwide Seoul\n",
       "                         \n",
       "Episodes                 \n",
       "1              11.4  12.9\n",
       "2              11.6  12.9\n",
       "3               9.0   9.4\n",
       "4               9.7  10.1\n",
       "5               8.6   9.3\n",
       "6              10.3  10.5\n",
       "7               8.1   8.7\n",
       "8               8.1   8.5\n",
       "9               6.3   7.0\n",
       "10              7.8   8.7\n",
       "11              6.6   6.8\n",
       "12              8.1   8.5\n",
       "13              7.7   8.2\n",
       "14              6.7   7.5\n",
       "15              8.1   8.5\n",
       "16              8.1   8.7"
      ]
     },
     "execution_count": 32,
     "metadata": {},
     "output_type": "execute_result"
    }
   ],
   "source": [
    "ratings"
   ]
  },
  {
   "cell_type": "code",
   "execution_count": 33,
   "metadata": {},
   "outputs": [
    {
     "data": {
      "text/plain": [
       "<matplotlib.legend.Legend at 0x288be8b8e08>"
      ]
     },
     "execution_count": 33,
     "metadata": {},
     "output_type": "execute_result"
    },
    {
     "data": {
      "image/png": "[encoded data removed]",
      "text/plain": [
       "<Figure size 432x288 with 1 Axes>"
      ]
     },
     "metadata": {
      "needs_background": "light"
     },
     "output_type": "display_data"
    }
   ],
   "source": [
    "ratings['Nationwide'].plot(kind = 'line')\n",
    "ratings['Seoul'].plot(kind = 'line')\n",
    "plt.xlabel('Episode')\n",
    "plt.ylabel('Ratings (%)')\n",
    "plt.title('Viewership ratings')\n",
    "plt.legend()"
   ]
  },
  {
   "cell_type": "code",
   "execution_count": 34,
   "metadata": {},
   "outputs": [
    {
     "name": "stdout",
     "output_type": "stream",
     "text": [
      "Average natonwide ratings:  8.51 %\n",
      "Average Seoul ratings:  9.14 %\n"
     ]
    }
   ],
   "source": [
    "print('Average natonwide ratings: ', round(ratings['Nationwide'].mean(),2),'%')\n",
    "print('Average Seoul ratings: ', round(ratings['Seoul'].mean(),2),'%')"
   ]
  },
  {
   "cell_type": "markdown",
   "metadata": {},
   "source": [
    "### 4. Sentiment analysis "
   ]
  },
  {
   "cell_type": "code",
   "execution_count": 35,
   "metadata": {},
   "outputs": [],
   "source": [
    "from nltk.sentiment.vader import SentimentIntensityAnalyzer\n",
    "\n",
    "sid = SentimentIntensityAnalyzer()"
   ]
  },
  {
   "cell_type": "code",
   "execution_count": 36,
   "metadata": {},
   "outputs": [],
   "source": [
    "def compound_score(compound): \n",
    "    if compound < 0:\n",
    "        return 'negative'\n",
    "    else:\n",
    "        return 'positive'\n"
   ]
  },
  {
   "cell_type": "code",
   "execution_count": 37,
   "metadata": {},
   "outputs": [
    {
     "data": {
      "text/html": [
       "<div>\n",
       "<style scoped>\n",
       "    .dataframe tbody tr th:only-of-type {\n",
       "        vertical-align: middle;\n",
       "    }\n",
       "\n",
       "    .dataframe tbody tr th {\n",
       "        vertical-align: top;\n",
       "    }\n",
       "\n",
       "    .dataframe thead th {\n",
       "        text-align: right;\n",
       "    }\n",
       "</style>\n",
       "<table border=\"1\" class=\"dataframe\">\n",
       "  <thead>\n",
       "    <tr style=\"text-align: right;\">\n",
       "      <th></th>\n",
       "      <th>Review</th>\n",
       "      <th>scores</th>\n",
       "      <th>compound</th>\n",
       "      <th>pred_sentiment</th>\n",
       "    </tr>\n",
       "  </thead>\n",
       "  <tbody>\n",
       "    <tr>\n",
       "      <th>0</th>\n",
       "      <td>I've just finished watching Mr.Sunshine. Altho...</td>\n",
       "      <td>{'neg': 0.0, 'neu': 0.864, 'pos': 0.136, 'comp...</td>\n",
       "      <td>0.6840</td>\n",
       "      <td>positive</td>\n",
       "    </tr>\n",
       "    <tr>\n",
       "      <th>1</th>\n",
       "      <td>Worth watching, the story was nice and the act...</td>\n",
       "      <td>{'neg': 0.0, 'neu': 0.506, 'pos': 0.494, 'comp...</td>\n",
       "      <td>0.8316</td>\n",
       "      <td>positive</td>\n",
       "    </tr>\n",
       "    <tr>\n",
       "      <th>2</th>\n",
       "      <td>Done watching it with a smile...</td>\n",
       "      <td>{'neg': 0.0, 'neu': 1.0, 'pos': 0.0, 'compound...</td>\n",
       "      <td>0.0000</td>\n",
       "      <td>positive</td>\n",
       "    </tr>\n",
       "    <tr>\n",
       "      <th>3</th>\n",
       "      <td>Kdrama Addict I love the story... I watched Le...</td>\n",
       "      <td>{'neg': 0.074, 'neu': 0.689, 'pos': 0.237, 'co...</td>\n",
       "      <td>0.9713</td>\n",
       "      <td>positive</td>\n",
       "    </tr>\n",
       "    <tr>\n",
       "      <th>4</th>\n",
       "      <td>One thing that turned me down about this movie...</td>\n",
       "      <td>{'neg': 0.0, 'neu': 0.742, 'pos': 0.258, 'comp...</td>\n",
       "      <td>0.9436</td>\n",
       "      <td>positive</td>\n",
       "    </tr>\n",
       "  </tbody>\n",
       "</table>\n",
       "</div>"
      ],
      "text/plain": [
       "                                              Review  \\\n",
       "0  I've just finished watching Mr.Sunshine. Altho...   \n",
       "1  Worth watching, the story was nice and the act...   \n",
       "2                   Done watching it with a smile...   \n",
       "3  Kdrama Addict I love the story... I watched Le...   \n",
       "4  One thing that turned me down about this movie...   \n",
       "\n",
       "                                              scores  compound pred_sentiment  \n",
       "0  {'neg': 0.0, 'neu': 0.864, 'pos': 0.136, 'comp...    0.6840       positive  \n",
       "1  {'neg': 0.0, 'neu': 0.506, 'pos': 0.494, 'comp...    0.8316       positive  \n",
       "2  {'neg': 0.0, 'neu': 1.0, 'pos': 0.0, 'compound...    0.0000       positive  \n",
       "3  {'neg': 0.074, 'neu': 0.689, 'pos': 0.237, 'co...    0.9713       positive  \n",
       "4  {'neg': 0.0, 'neu': 0.742, 'pos': 0.258, 'comp...    0.9436       positive  "
      ]
     },
     "execution_count": 37,
     "metadata": {},
     "output_type": "execute_result"
    }
   ],
   "source": [
    "df['scores'] = df['Review'].apply(lambda sentence: sid.polarity_scores(sentence))\n",
    "\n",
    "# Obtaining compound score\n",
    "df['compound']  = df['scores'].apply(lambda score_dict: score_dict['compound'])\n",
    "\n",
    "# Determining sentiment based on compound score\n",
    "df['pred_sentiment'] = df['compound'].apply(compound_score)\n",
    "\n",
    "df.head()"
   ]
  },
  {
   "cell_type": "code",
   "execution_count": 38,
   "metadata": {},
   "outputs": [
    {
     "data": {
      "text/plain": [
       "positive    734\n",
       "negative    146\n",
       "Name: pred_sentiment, dtype: int64"
      ]
     },
     "execution_count": 38,
     "metadata": {},
     "output_type": "execute_result"
    }
   ],
   "source": [
    "df['pred_sentiment'].value_counts()"
   ]
  },
  {
   "cell_type": "markdown",
   "metadata": {},
   "source": [
    "Based on our model, approximately 83% of viewers enjoyed the drama."
   ]
  },
  {
   "cell_type": "code",
   "execution_count": 39,
   "metadata": {},
   "outputs": [
    {
     "name": "stdout",
     "output_type": "stream",
     "text": [
      "Positive reviews:\n",
      "\n",
      "I've just finished watching Mr.Sunshine. Although it's the same writer, the feeling is totally different. Mr.Sunshine is so epic and grand but The King Eternal Monarch is the opposite. I feel like watching The Heir Season 2. There are questions that left unanswered in the end.\n",
      "\n",
      "\n",
      "Worth watching, the story was nice and the actors did a great job\n",
      "\n",
      "\n",
      "Done watching it with a smile...\n"
     ]
    }
   ],
   "source": [
    "print('Positive reviews:')\n",
    "print('')\n",
    "print(df[df['pred_sentiment'] == 'positive'].iloc[0,0])\n",
    "print('\\n')\n",
    "print(df[df['pred_sentiment'] == 'positive'].iloc[1,0])\n",
    "print('\\n')\n",
    "print(df[df['pred_sentiment'] == 'positive'].iloc[2,0])"
   ]
  },
  {
   "cell_type": "code",
   "execution_count": 40,
   "metadata": {},
   "outputs": [
    {
     "name": "stdout",
     "output_type": "stream",
     "text": [
      "Negative reviews:\n",
      "\n",
      "Okay...overall I think this drama was good. Their love story was cute. But am I the only one who found it confusing AF...???? I constantly had questions throughout the show. Way too many characters to keep track of. The ending wasn't bad.. but could have been better.(***SPOILER ahead***) It made me kind of sad that Sin Jae didn't know who they were...and Eun Sup didn't end up knowing who Lee Gon was?? like why? and Lee Gon and Tae Eul just went back and forth from one world to another for the rest of their lives?? Couldn't they at least get married or something? Like doesn't her dad question where she's going every weekend? Idk it just wasn't satisfying. Also, where did the teen version of the yoyo kid come from??? Some things just did not make sense! :?\n",
      "\n",
      "\n",
      "I really don't like the drama from the very beginning, it was by far Lee min Ho poorest drama.the romance part of the drama was too early and very boring and all the time travelling and parallel universe of a thing wasn't just going in-line with the explanation..... I can't imagine the writer trying to explain the parallel universe using (Heisenberg uncertainty principle and wave particle paradox)....... It kind of seems absurd and the plot of the drama was just too lame.\n",
      "\n",
      "\n",
      "!!!!!SPOILERS!!!!!@Lisa the red scars is actually really simple. Anyone who had a red scars meant their doppelganger was dead. But you helped me understand some other stuff that made no sense. I'm also very confused about the boy with the yoyo. I get he was the magic stick thing but the teen boy came out of nowhere!!\n"
     ]
    }
   ],
   "source": [
    "print('Negative reviews:')\n",
    "print('')\n",
    "print(df[df['pred_sentiment'] == 'negative'].iloc[0,0])\n",
    "print('\\n')\n",
    "print(df[df['pred_sentiment'] == 'negative'].iloc[1,0])\n",
    "print('\\n')\n",
    "print(df[df['pred_sentiment'] == 'negative'].iloc[2,0])"
   ]
  }
 ],
 "metadata": {
  "kernelspec": {
   "display_name": "Python 3",
   "language": "python",
   "name": "python3"
  },
  "language_info": {
   "codemirror_mode": {
    "name": "ipython",
    "version": 3
   },
   "file_extension": ".py",
   "mimetype": "text/x-python",
   "name": "python",
   "nbconvert_exporter": "python",
   "pygments_lexer": "ipython3",
   "version": "3.7.6"
  }
 },
 "nbformat": 4,
 "nbformat_minor": 4
}
